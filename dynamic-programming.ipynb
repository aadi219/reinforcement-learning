{
 "cells": [
  {
   "cell_type": "code",
   "execution_count": 1,
   "id": "52232119",
   "metadata": {},
   "outputs": [],
   "source": [
    "import numpy as np\n",
    "import matplotlib.pyplot as plt\n",
    "from tqdm import tqdm"
   ]
  },
  {
   "cell_type": "markdown",
   "id": "c6bb3f13",
   "metadata": {},
   "source": [
    "### Value Iteration\n",
    "For a simple grid-world. Assuming an undiscounted, episodic MDP\n",
    "\n",
    "Policy is equiprobable over all actions $a \\in A$\n",
    "$$\n",
    "    A = \\set{up, down, left, right}, \\ \\ \n",
    "    \\pi(a|s) = \\frac{1}{4}\n",
    "$$\n",
    "Reward $r_t=-1$ for all transitions"
   ]
  },
  {
   "cell_type": "code",
   "execution_count": 2,
   "id": "f58bc5ce",
   "metadata": {},
   "outputs": [],
   "source": [
    "theta = 0.001 # accuracy of estimation\n",
    "num_iters = 50\n",
    "terminal_states = ((0,0), (3,3))\n",
    "grid_size = 4\n",
    "r_t = -1"
   ]
  },
  {
   "cell_type": "code",
   "execution_count": 3,
   "id": "f5198a1b",
   "metadata": {},
   "outputs": [],
   "source": [
    "def calculate_state_value(s: tuple, V_pi: np.ndarray, r_t: float, gamma: float):\n",
    "    transitions = ( # all states s' after some action a\n",
    "        (s[0] - 1, s[1]), # up\n",
    "        (s[0] + 1, s[1]), # down\n",
    "        (s[0], s[1] - 1), # left\n",
    "        (s[0], s[1] + 1) # right\n",
    "    ) \n",
    "    v_s = 0 # v_pi(s)\n",
    "    for s_prime in transitions:\n",
    "        if s_prime[0] < 0 or s_prime[0] >= grid_size or s_prime[1] < 0 or s_prime[1] >= grid_size:\n",
    "            s_prime = s\n",
    "        v = r_t + (gamma * V_pi[s_prime])\n",
    "        v = v / 4 # each action has a 1/4 probability of being selected\n",
    "        v_s += v\n",
    "    return v_s"
   ]
  },
  {
   "cell_type": "code",
   "execution_count": 4,
   "id": "6ad587b6",
   "metadata": {},
   "outputs": [
    {
     "name": "stdout",
     "output_type": "stream",
     "text": [
      "Estimated V_pi at iter: 0\n",
      "[[0. 0. 0. 0.]\n",
      " [0. 0. 0. 0.]\n",
      " [0. 0. 0. 0.]\n",
      " [0. 0. 0. 0.]]\n",
      "Estimated V_pi at iter: 1\n",
      "[[ 0.   -1.   -1.25 -1.31]\n",
      " [-1.   -1.5  -1.69 -1.75]\n",
      " [-1.25 -1.69 -1.84 -1.9 ]\n",
      " [-1.31 -1.75 -1.9   0.  ]]\n",
      "Estimated V_pi at iter: 2\n",
      "[[ 0.   -1.94 -2.55 -2.73]\n",
      " [-1.94 -2.81 -3.24 -3.4 ]\n",
      " [-2.55 -3.24 -3.57 -3.22]\n",
      " [-2.73 -3.4  -3.22  0.  ]]\n",
      "Estimated V_pi at iter: 3\n",
      "[[ 0.   -2.82 -3.83 -4.18]\n",
      " [-2.82 -4.03 -4.71 -4.88]\n",
      " [-3.83 -4.71 -4.96 -4.26]\n",
      " [-4.18 -4.88 -4.26  0.  ]]\n",
      "Estimated V_pi at iter: 10\n",
      "[[  0.    -7.83 -11.12 -12.23]\n",
      " [ -7.83 -10.42 -11.77 -11.86]\n",
      " [-11.12 -11.77 -11.05  -8.81]\n",
      " [-12.23 -11.86  -8.81   0.  ]]\n",
      "Estimated value after completion (88 iters)\n",
      "[[  0.   -13.99 -19.99 -21.99]\n",
      " [-13.99 -17.99 -19.99 -19.99]\n",
      " [-19.99 -19.99 -17.99 -13.99]\n",
      " [-21.99 -19.99 -13.99   0.  ]]\n"
     ]
    }
   ],
   "source": [
    "# initialize state-value estimates\n",
    "V_pi = np.zeros((grid_size, grid_size))\n",
    "i = 0\n",
    "while True:\n",
    "    if i in (0, 1, 2, 3, 10):\n",
    "        print(\"Estimated V_pi at iter:\", i)\n",
    "        print(np.round(V_pi, decimals=2))\n",
    "    i += 1\n",
    "    delta = 0\n",
    "    for row in range(grid_size):\n",
    "        for col in range(grid_size):\n",
    "            if (row, col) in terminal_states:\n",
    "                continue\n",
    "            v = V_pi[row, col]\n",
    "            V_pi[row, col] = calculate_state_value((row, col), V_pi, r_t, gamma=1)\n",
    "            delta = max(delta, abs(v - V_pi[row, col]))\n",
    "    if delta < theta:\n",
    "        break\n",
    "print(f\"Estimated value after completion ({i} iters)\")\n",
    "print(np.round(V_pi, decimals=2))"
   ]
  },
  {
   "cell_type": "code",
   "execution_count": null,
   "id": "98c2e4a5",
   "metadata": {},
   "outputs": [],
   "source": []
  },
  {
   "cell_type": "code",
   "execution_count": null,
   "id": "dd0f579a",
   "metadata": {},
   "outputs": [],
   "source": []
  }
 ],
 "metadata": {
  "kernelspec": {
   "display_name": "aiqa",
   "language": "python",
   "name": "python3"
  },
  "language_info": {
   "codemirror_mode": {
    "name": "ipython",
    "version": 3
   },
   "file_extension": ".py",
   "mimetype": "text/x-python",
   "name": "python",
   "nbconvert_exporter": "python",
   "pygments_lexer": "ipython3",
   "version": "3.10.16"
  }
 },
 "nbformat": 4,
 "nbformat_minor": 5
}
